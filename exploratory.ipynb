{
 "cells": [
  {
   "cell_type": "code",
   "execution_count": 1,
   "metadata": {},
   "outputs": [],
   "source": [
    "import data_utils\n",
    "train_data, test_data, user_num ,item_num, train_mat = data_utils.load_all()"
   ]
  },
  {
   "cell_type": "code",
   "execution_count": 2,
   "metadata": {},
   "outputs": [
    {
     "name": "stdout",
     "output_type": "stream",
     "text": [
      "(6040, 3706)\n"
     ]
    }
   ],
   "source": [
    "print(train_mat.shape)"
   ]
  },
  {
   "cell_type": "code",
   "execution_count": 3,
   "metadata": {},
   "outputs": [
    {
     "name": "stdout",
     "output_type": "stream",
     "text": [
      "3706\n"
     ]
    }
   ],
   "source": [
    "print(item_num)"
   ]
  },
  {
   "cell_type": "code",
   "execution_count": 4,
   "metadata": {},
   "outputs": [
    {
     "name": "stdout",
     "output_type": "stream",
     "text": [
      "6040\n"
     ]
    }
   ],
   "source": [
    "print(user_num)"
   ]
  },
  {
   "cell_type": "code",
   "execution_count": 6,
   "metadata": {},
   "outputs": [
    {
     "name": "stdout",
     "output_type": "stream",
     "text": [
      "[6039, 669]\n"
     ]
    }
   ],
   "source": [
    "print(train_data[-1])"
   ]
  },
  {
   "cell_type": "code",
   "execution_count": 9,
   "metadata": {},
   "outputs": [
    {
     "name": "stdout",
     "output_type": "stream",
     "text": [
      "1.0\n"
     ]
    }
   ],
   "source": [
    "print(train_mat[6039, 669])"
   ]
  },
  {
   "cell_type": "code",
   "execution_count": 7,
   "metadata": {},
   "outputs": [],
   "source": [
    "# construct the train and test datasets\n",
    "train_dataset = data_utils.NCFData(\n",
    "\t\ttrain_data, item_num, train_mat, 4, True)"
   ]
  },
  {
   "cell_type": "code",
   "execution_count": 8,
   "metadata": {},
   "outputs": [],
   "source": [
    "train_dataset.ng_sample()\n"
   ]
  },
  {
   "cell_type": "code",
   "execution_count": 9,
   "metadata": {},
   "outputs": [
    {
     "name": "stdout",
     "output_type": "stream",
     "text": [
      "994169\n"
     ]
    }
   ],
   "source": [
    "print(len(train_data))"
   ]
  },
  {
   "cell_type": "code",
   "execution_count": 10,
   "metadata": {},
   "outputs": [
    {
     "name": "stdout",
     "output_type": "stream",
     "text": [
      "128\n"
     ]
    }
   ],
   "source": [
    "print(len(train_mat[1]))"
   ]
  },
  {
   "cell_type": "code",
   "execution_count": 11,
   "metadata": {},
   "outputs": [
    {
     "name": "stdout",
     "output_type": "stream",
     "text": [
      "994169\n"
     ]
    }
   ],
   "source": [
    "print(len(train_data))"
   ]
  },
  {
   "cell_type": "code",
   "execution_count": 12,
   "metadata": {
    "tags": []
   },
   "outputs": [
    {
     "name": "stdout",
     "output_type": "stream",
     "text": [
      "604000\n"
     ]
    }
   ],
   "source": [
    "print(len(test_data))"
   ]
  },
  {
   "cell_type": "code",
   "execution_count": 13,
   "metadata": {},
   "outputs": [],
   "source": [
    "import torch.utils.data as data\n",
    "train_dataset = data_utils.NCFData(\n",
    "\t\ttrain_data, item_num, train_mat, 4, True)\n",
    "train_loader = data.DataLoader(train_dataset,\n",
    "\t\tbatch_size=1, shuffle=True, num_workers=1)"
   ]
  },
  {
   "cell_type": "code",
   "execution_count": 14,
   "metadata": {},
   "outputs": [
    {
     "name": "stdout",
     "output_type": "stream",
     "text": [
      "4970845\n"
     ]
    }
   ],
   "source": [
    "print(len(train_loader))"
   ]
  },
  {
   "cell_type": "code",
   "execution_count": 17,
   "metadata": {},
   "outputs": [
    {
     "name": "stdout",
     "output_type": "stream",
     "text": [
      "tensor([[ 0.1533, -0.6597, -0.3431]])\n",
      "tensor(1)\n"
     ]
    }
   ],
   "source": [
    "a = torch.randn(1, 3)\n",
    "print(a)\n",
    "print(torch.argmin(a))"
   ]
  },
  {
   "cell_type": "code",
   "execution_count": 13,
   "metadata": {},
   "outputs": [],
   "source": [
    "import torch\n",
    "import torch.nn.functional as F\n",
    "def poison_loss(users, fake_user, items, promoted_item, predictions, labels, _lambda, eita, kappa):\n",
    "\t\n",
    "\t# total_bce_loss = torch.sum(-1*labels * torch.log(predictions) - (1 - labels) * torch.log(1 - predictions))\n",
    "\ttotal_bce_loss = F.binary_cross_entropy(torch.sigmoid(predictions), labels, reduction='sum')\n",
    "    # Getting the mean BCE loss\n",
    "\tmean_bce_loss = total_bce_loss\n",
    "\n",
    "\t# get predictions per user\n",
    "\tunique_users = torch.unique(users)\n",
    "\tusers_loss = 0\n",
    "\tnum_unique_users = 0\n",
    "\tfor user in unique_users:\n",
    "\t\t\n",
    "\t\t# get predictions and corresponding items for each user\n",
    "\t\tindices = (users == user).nonzero().squeeze()\n",
    "\t\tuser_predictions = torch.index_select(predictions, 0, indices)\n",
    "\t\tuser_items = torch.index_select(items, 0, indices)\n",
    "\t\tuser_labels = torch.index_select(labels, 0, indices)\n",
    "\t\tlog_min_prediction = torch.log(torch.min(user_predictions)).item()\n",
    "\t\t\n",
    "\t\t# only consider users who have not rated promoted item yet\n",
    "\t\tindices = (user_items == promoted_item).nonzero()\n",
    "\t\t# print(\"indeces:\",indices)\n",
    "\t\tif len(indices) != 0 and user_labels[indices[0].item()] > 0:\n",
    "\t\t\tcontinue\n",
    "\t\t\n",
    "\t\tif len((user_items==promoted_item).nonzero()) == 0:\n",
    "\t\t\tlog_prob_tgt_item = 0\n",
    "\t\telse:\n",
    "\t\t\tlog_prob_tgt_item = torch.log(user_predictions[(user_items==promoted_item).nonzero()[0].item()])\n",
    "\t\t# print(log_prob_tgt_item)\n",
    "\t\tuser_loss = torch.max(torch.Tensor([log_min_prediction - log_prob_tgt_item, -1*kappa])).item()\n",
    "\t\tusers_loss += user_loss\n",
    "\t\tnum_unique_users += 1\n",
    "\t\n",
    "\tu = users == fake_user\n",
    "\tindices = u.nonzero().squeeze()\n",
    "\tfake_user_vector = torch.index_select(predictions, 0, indices)\n",
    "\tfake_user_l2_norm = torch.linalg.vector_norm(fake_user_vector)\n",
    "\t# print(fake_user_l2_norm)\n",
    "\t# print(users_loss)\n",
    "\t# print(mean_bce_loss)\n",
    "\tpoison_loss = torch.pow(fake_user_l2_norm, 2) + eita*users_loss\n",
    "\t# print(poison_loss)\n",
    "\n",
    "\treturn mean_bce_loss + _lambda*poison_loss"
   ]
  },
  {
   "cell_type": "code",
   "execution_count": 14,
   "metadata": {},
   "outputs": [
    {
     "name": "stdout",
     "output_type": "stream",
     "text": [
      "tensor(18.9076)\n"
     ]
    }
   ],
   "source": [
    "users = torch.Tensor([1,4,2,3,5,4,3,3,2,1,5,3,2,1,5,2,3,1,4,2,3,5,3,2,1,1,4,2,5,2,5,3])\n",
    "items = torch.Tensor([4,1,6,2,5,8,9,4,0,4,1,3,4,5,2,6,7,9,8,7,0,4,6,2,3,1,5,0,9,8,5,3])\n",
    "predictions = torch.Tensor([0.4,0.1,0.6,0.2,0.5,0.8,0.9,0.4,0,0.4,0.1,0.3,0.4,0.5,0.2,0.6,0.7,0.9,0.8,0.7,0.0,0.4,0.6,0.2,0.3,0.1,0.5,0,0.9,0.8,0.5,0.3])\n",
    "labels = torch.Tensor([1,1,0,0,1,1,0,0,0,0,1,0,0,1,1,1,1,0,0,1,1,0,1,1,1,1,0,0,0,1,1,1])\n",
    "fake_user = 2\n",
    "promoted_item = 6\n",
    "\n",
    "print(poison_loss(users, fake_user, items, promoted_item, predictions, labels, _lambda=0.01, eita=100, kappa=1))\n"
   ]
  },
  {
   "cell_type": "code",
   "execution_count": 5,
   "metadata": {},
   "outputs": [
    {
     "name": "stdout",
     "output_type": "stream",
     "text": [
      "tensor([5., 5., 5., 5., 5.])\n"
     ]
    }
   ],
   "source": [
    "import torch\n",
    "t = torch.ones(5)*5\n",
    "print(t)"
   ]
  },
  {
   "cell_type": "code",
   "execution_count": 12,
   "metadata": {},
   "outputs": [
    {
     "name": "stdout",
     "output_type": "stream",
     "text": [
      "tensor([2.5000, 0.1562, 0.1562, 2.5000, 2.5000])\n"
     ]
    }
   ],
   "source": [
    "indices = torch.tensor([1, 2])\n",
    "t[indices] = t[indices] * 0.5\n",
    "x = t*torch.Tensor([.5, .5, .5, .5, .5])\n",
    "print(x)"
   ]
  },
  {
   "cell_type": "code",
   "execution_count": 13,
   "metadata": {},
   "outputs": [
    {
     "name": "stdout",
     "output_type": "stream",
     "text": [
      "2.5 5.0\n",
      "0.15625 0.3125\n",
      "0.15625 0.3125\n",
      "2.5 5.0\n",
      "2.5 5.0\n"
     ]
    }
   ],
   "source": [
    "for a, b in zip(x, t):\n",
    "    print(a.item(), b.item())"
   ]
  },
  {
   "cell_type": "code",
   "execution_count": 3,
   "metadata": {},
   "outputs": [
    {
     "name": "stdout",
     "output_type": "stream",
     "text": [
      "[0, 1, 2, 3, 4]\n"
     ]
    }
   ],
   "source": [
    "x = [i for i in range(5)]\n",
    "print(x)"
   ]
  },
  {
   "cell_type": "code",
   "execution_count": null,
   "metadata": {},
   "outputs": [],
   "source": []
  }
 ],
 "metadata": {
  "interpreter": {
   "hash": "08a710f3639c0433ad8ae3f4718e7cd62ceca54874b2c16c04fe76c31515e4d4"
  },
  "kernelspec": {
   "display_name": "Python 3.7.10 64-bit ('oscar': conda)",
   "name": "python3"
  },
  "language_info": {
   "codemirror_mode": {
    "name": "ipython",
    "version": 3
   },
   "file_extension": ".py",
   "mimetype": "text/x-python",
   "name": "python",
   "nbconvert_exporter": "python",
   "pygments_lexer": "ipython3",
   "version": "3.7.10"
  },
  "orig_nbformat": 4
 },
 "nbformat": 4,
 "nbformat_minor": 2
}